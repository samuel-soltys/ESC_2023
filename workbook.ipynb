{
 "cells": [
  {
   "attachments": {},
   "cell_type": "markdown",
   "metadata": {},
   "source": [
    "# Importing libraries"
   ]
  },
  {
   "cell_type": "code",
   "execution_count": null,
   "metadata": {},
   "outputs": [],
   "source": [
    "# Importing libraries\n",
    "import pandas as pd\n",
    "import matplotlib.pyplot as plt \n",
    "import seaborn as sb\n",
    "import geopandas as gpd\n",
    "import geoplot\n",
    "import geoplot.crs as gcrs\n",
    "import mapclassify\n",
    "import numpy as np"
   ]
  },
  {
   "attachments": {},
   "cell_type": "markdown",
   "metadata": {},
   "source": [
    "# Data Loading and Pre-processing"
   ]
  },
  {
   "cell_type": "code",
   "execution_count": null,
   "metadata": {},
   "outputs": [],
   "source": [
    "file_name =  \"ERC_formatted.xlsx\"\n",
    "\n",
    "# loading DataFrames\n",
    "pocet_obyvatelov = pd.read_excel(io=file_name, sheet_name=0)\n",
    "# pocet_obyvatelov_bez_spocitanych = pd.read_excel(io=file_name, sheet_name=11)\n",
    "narodeni = pd.read_excel(io=file_name, sheet_name=1)\n",
    "zomreti = pd.read_excel(io=file_name, sheet_name=2)\n",
    "vnutorna_migracia_pristahovani = pd.read_excel(io=file_name, sheet_name=3)\n",
    "vnutorna_migracia_vystahovani = pd.read_excel(io=file_name, sheet_name=4)\n",
    "zahranicna_migracia_vystahovani = pd.read_excel(io=file_name, sheet_name=5)\n",
    "zahranicna_migracia_pristahovani = pd.read_excel(io=file_name, sheet_name=6)\n",
    "priemerna_mzda = pd.read_excel(io=file_name, sheet_name=7)\n",
    "zamestnanost = pd.read_excel(io=file_name, sheet_name=8)\n",
    "pocet_gymnazii = pd.read_excel(io=file_name, sheet_name=9)\n",
    "pocet_strednych_odbornych_skol = pd.read_excel(io=file_name, sheet_name=10)\n",
    "\n",
    "# arrays of names and dataframes\n",
    "dataframes = [pocet_obyvatelov, narodeni, zomreti, vnutorna_migracia_pristahovani, vnutorna_migracia_vystahovani, zahranicna_migracia_vystahovani, zahranicna_migracia_pristahovani, priemerna_mzda, zamestnanost, pocet_gymnazii, pocet_strednych_odbornych_skol]\n",
    "names_of_datagrames = [\"pocet_obyvatelov\", \"narodeni\", \"zomreti\", \"vnutorna_migracia_pristahovani\", \"vnutorna_migracia_vystahovani\", \"zahranicna_migracia_vystahovani\", \"zahranicna_migracia_pristahovani\", \"priemerna_mzda\", \"zamestnanost\", \"pocet_gymnazii\", \"pocet_strednych_odbornych_skol\"]\n",
    "\n",
    "# creating dictionary of dataframes for each year from 2010 to 2021\n",
    "years = {}\n",
    "for year in range(2010,2022):\n",
    "    years[year] = pd.DataFrame(pocet_obyvatelov[\"Okres\"])\n",
    "    for i in range(len(dataframes)):\n",
    "        years[year][names_of_datagrames[i]] = dataframes[i][year]\n"
   ]
  },
  {
   "cell_type": "code",
   "execution_count": null,
   "metadata": {},
   "outputs": [],
   "source": [
    "# check if every dataframe column \"Okres\" is the same in every dataframe, print only true or false\n",
    "print(pocet_obyvatelov[\"Okres\"].to_list() == narodeni[\"Okres\"].to_list() == zomreti[\"Okres\"].to_list() == vnutorna_migracia_pristahovani[\"Okres\"].to_list() == vnutorna_migracia_vystahovani[\"Okres\"].to_list() == zahranicna_migracia_vystahovani[\"Okres\"].to_list() == zahranicna_migracia_pristahovani[\"Okres\"].to_list() == priemerna_mzda[\"Okres\"].to_list() == zamestnanost[\"Okres\"].to_list() == pocet_gymnazii[\"Okres\"].to_list() == pocet_strednych_odbornych_skol[\"Okres\"].to_list())"
   ]
  },
  {
   "attachments": {},
   "cell_type": "markdown",
   "metadata": {},
   "source": [
    "# MISC commands (debug tools)"
   ]
  },
  {
   "cell_type": "code",
   "execution_count": null,
   "metadata": {},
   "outputs": [],
   "source": [
    "# MISC getting row of Okres Bratislava I\n",
    "# print(years[2010][years[2010][\"Okres\"] == \"Okres Bratislava I\"])"
   ]
  },
  {
   "cell_type": "code",
   "execution_count": null,
   "metadata": {},
   "outputs": [],
   "source": [
    "# # plotting correlation heatmap for every year\n",
    "# for year in range(2010,2022):\n",
    "#     correlation_matrix_data = years[year]\n",
    "    \n",
    "#     mask = np.triu(np.ones_like(correlation_matrix_data.corr(), dtype=bool))\n",
    "#     # print(correlation_matrix_data.corr())\n",
    "#     dataplot=sb.heatmap(correlation_matrix_data.corr(), annot=True, cmap=\"YlGnBu\", mask = mask)\n",
    "\n",
    "#     # displaying heatmaps\n",
    "#     plt.show()"
   ]
  },
  {
   "cell_type": "code",
   "execution_count": null,
   "metadata": {},
   "outputs": [],
   "source": [
    "# from scipy.optimize import curve_fit\n",
    "\n",
    "# # this is the function we want to fit\n",
    "# def func(x, a, c):\n",
    "#     return a*x*x + c\n",
    "\n",
    "# p_opt, p_cov = curve_fit(func, years[YEAR][X], years[YEAR][Y])\n",
    "\n",
    "# print(p_opt)\n",
    "# a, c = p_opt\n",
    "# sb.scatterplot(data=years[YEAR], x=X, y=Y) # hue=\"Okres\"\n",
    "# sb.lmplot(data=years[YEAR], x=X, y=Y, line_kws={\"color\": \"red\"})\n",
    "# plt.plot(years[YEAR][X], func(years[YEAR][X], a, c), \"g--\", label=\"fit: a=%5.3f, c=%5.3f\" % tuple(p_opt))\n"
   ]
  },
  {
   "cell_type": "code",
   "execution_count": null,
   "metadata": {},
   "outputs": [],
   "source": [
    "# def average_correlation_coefficient(X, Y):\n",
    "#     sum_of_correlations = 0\n",
    "#     for year in range(2010,2022):\n",
    "#         sum_of_correlations += years[year][X].corr(years[year][Y])\n",
    "#         print(year, \": \", years[year][X].corr(years[year][Y]))\n",
    "#     print(sum_of_correlations / 12)\n",
    "#     return sum_of_correlations / 12\n",
    "\n"
   ]
  },
  {
   "attachments": {},
   "cell_type": "markdown",
   "metadata": {},
   "source": [
    "# Average correlation heatmap"
   ]
  },
  {
   "cell_type": "code",
   "execution_count": null,
   "metadata": {},
   "outputs": [],
   "source": [
    "# sb.set(font_scale=2)\n",
    "sum_of_correlations = years[2010].corr()\n",
    "\n",
    "for year in range(2011,2022):\n",
    "    sum_of_correlations += years[year].corr()\n",
    "\n",
    "sum_of_correlations = sum_of_correlations / 12\n",
    "\n",
    "fig, ax = plt.subplots(figsize=(15,9)) \n",
    "\n",
    "mask = np.triu(np.ones_like(years[2010].corr(), dtype=bool))\n",
    "dataplot=sb.heatmap(sum_of_correlations, annot=True, cmap=\"YlGnBu\", ax = ax)\n",
    "plt.savefig(\"map.png\", transparent=True, bbox_inches = 'tight')\n",
    "\n",
    "years[2010].head()"
   ]
  },
  {
   "attachments": {},
   "cell_type": "markdown",
   "metadata": {},
   "source": [
    "---"
   ]
  },
  {
   "attachments": {},
   "cell_type": "markdown",
   "metadata": {},
   "source": [
    "#### DIVNE STATISTICKE VYPOCTY V PYTHONE NA DATAFRAMES"
   ]
  },
  {
   "cell_type": "code",
   "execution_count": null,
   "metadata": {},
   "outputs": [],
   "source": [
    "# \n",
    "\"\"\"\n",
    "# priemer vsetkych okresov\n",
    "print(\"Mean: \", priemerna_mzda.mean())\n",
    "\n",
    "# minimum vsetkych okresov\n",
    "print(\"Min\", priemerna_mzda.min())\n",
    "\n",
    "# maximum vsetkych okresov\n",
    "print(\"Max\", priemerna_mzda.max())\n",
    "\n",
    "# dolny kvartil vsetkych okresov\n",
    "print(\"Dolny kvartil\",priemerna_mzda.quantile(0.25))\n",
    "\n",
    "# horny kvartil vsetkych okresov\n",
    "print(\"Horny kvartil\", priemerna_mzda.quantile(0.75))\n",
    "\n",
    "# median vsetkych okresov\n",
    "print(\"median\",priemerna_mzda.median())\n",
    "\n",
    "# standardna odchylka vsetkych okresov\n",
    "print(\"standardna odchylka\",priemerna_mzda.std())\n",
    "\n",
    "# smerodajna odchylka vsetkych okresov\n",
    "print(\"smerodajna odchylka\",priemerna_mzda.mad())\n",
    "\n",
    "# interkvartilovy rozsah vsetkych okresov\n",
    "print(\"interkvartilovy rozsah\",priemerna_mzda.quantile(0.75) - priemerna_mzda.quantile(0.25))\n",
    "\n",
    "# rozpatie vsetkych okresov\n",
    "print(\"rozpatie vsetkych okresov\",priemerna_mzda.max() - priemerna_mzda.min())\n",
    "\n",
    "# koeficient kvartilovej odchýlky vsetkych okresov\n",
    "print(\"koeficient kvartilovej odchýlky\", (priemerna_mzda.quantile(0.75) - priemerna_mzda.quantile(0.25)) / (priemerna_mzda.max() - priemerna_mzda.min()))\n",
    "\"\"\""
   ]
  },
  {
   "attachments": {},
   "cell_type": "markdown",
   "metadata": {},
   "source": [
    "#### Variable nazvy"
   ]
  },
  {
   "cell_type": "code",
   "execution_count": null,
   "metadata": {},
   "outputs": [],
   "source": [
    "# \"pocet_obyvatelov\", \"narodeni\", \"zomreti\", \"vnutorna_migracia_pristahovani\", \"vnutorna_migracia_vystahovani\",\n",
    "# \"zahranicna_migracia_vystahovani\", \"zahranicna_migracia_pristahovani\", \"priemerna_mzda\", \"zamestnanost\", \"pocet_gymnazii\", \"pocet_strednych_odbornych_skol\""
   ]
  },
  {
   "cell_type": "code",
   "execution_count": null,
   "metadata": {},
   "outputs": [],
   "source": [
    "def set_DPI():\n",
    "    fig, ax = plt.subplots()\n",
    "    fig.set_dpi(100)\n",
    "    plt.grid(color = '#458EBC', linestyle = '--', linewidth = 0.5)\n",
    "    ax.ticklabel_format(style='plain')"
   ]
  },
  {
   "attachments": {},
   "cell_type": "markdown",
   "metadata": {},
   "source": [
    "---"
   ]
  },
  {
   "attachments": {},
   "cell_type": "markdown",
   "metadata": {},
   "source": [
    "# Specific correlation plots"
   ]
  },
  {
   "attachments": {},
   "cell_type": "markdown",
   "metadata": {},
   "source": [
    "### Trh prace"
   ]
  },
  {
   "cell_type": "code",
   "execution_count": null,
   "metadata": {},
   "outputs": [],
   "source": [
    "# Zamestnanost a priemerna mzda zavislost\n",
    "YEAR = 2021\n",
    "year = years[YEAR]\n",
    "X = year[\"zamestnanost\"] / year[\"pocet_obyvatelov\"] * 100 # FIX pocet obyvatelov\n",
    "Y = year[\"priemerna_mzda\"]\n",
    "\n",
    "# # Migracia a zamestnanost zavislost \n",
    "# X = year[\"zahranicna_migracia_pristahovani\"] / year[\"pocet_obyvatelov\"] * 100\n",
    "# Y = year[\"zamestnanost\"] / year[\"pocet_obyvatelov\"] * 100"
   ]
  },
  {
   "cell_type": "code",
   "execution_count": null,
   "metadata": {},
   "outputs": [],
   "source": [
    "# SIMPLE PLOT OF X AND Y\n",
    "set_DPI()\n",
    "fig = sb.scatterplot(x=X, y=Y, color=\"#458EBC\") # hue=year[\"pocet_gymnazii\"]/year[\"pocet_obyvatelov\"]\n",
    "\n",
    "fig.set_xlabel(\"Pomer zamestnaných ľudí na počet obyvateľov v okrese (%)\")\n",
    "fig.set_ylabel(\"Priemerná mzda v okrese (€)\")\n",
    "\n",
    "m, b = np.polyfit(X, Y, 1)\n",
    "plt.plot(X, m*X + b, color=\"#243187\")\n",
    "\n",
    "plt.xticks(np.arange(min(X)-2.5, max(X), 25))\n",
    "\n",
    "# correltion coefficient of X and Y\n",
    "plt.savefig(\"priemerna_mzda_zamestnanost.png\", transparent=True, dpi=300)\n",
    "print(\"Correlation coefficient: \", X.corr(Y))\n",
    "\n",
    "# AVERAGE CORRELATION\n",
    "# summ = 0\n",
    "# for i in range(2010,2022):\n",
    "#     one = years[i][\"zamestnanost\"] / years[i][\"pocet_obyvatelov\"] * 100\n",
    "#     two = years[i][\"priemerna_mzda\"]\n",
    "#     print(i, \": \", one.corr(two))\n",
    "#     summ += one.corr(two)\n",
    "# print(\"Average: \", summ/12) \n"
   ]
  },
  {
   "cell_type": "code",
   "execution_count": null,
   "metadata": {},
   "outputs": [],
   "source": [
    "# LINEAR REGRESSION FITED TO PLOT OF X AND Y\n",
    "set_DPI()\n",
    "sb.regplot(x=X, y=Y, line_kws={\"color\": \"green\"}) # hue=\"Okres\""
   ]
  },
  {
   "attachments": {},
   "cell_type": "markdown",
   "metadata": {},
   "source": [
    "### Populacia"
   ]
  },
  {
   "cell_type": "code",
   "execution_count": null,
   "metadata": {},
   "outputs": [],
   "source": []
  },
  {
   "attachments": {},
   "cell_type": "markdown",
   "metadata": {},
   "source": [
    "### Vzdelanie"
   ]
  },
  {
   "cell_type": "code",
   "execution_count": null,
   "metadata": {},
   "outputs": [],
   "source": [
    "# X = year[\"zamestnanost\"] / year[\"pocet_obyvatelov\"] * 100\n",
    "# Y = year[\"pocet_gymnazii\"] /year[\"pocet_obyvatelov\"]"
   ]
  },
  {
   "attachments": {},
   "cell_type": "markdown",
   "metadata": {},
   "source": [
    "# Graphs in time"
   ]
  },
  {
   "attachments": {},
   "cell_type": "markdown",
   "metadata": {},
   "source": [
    "### Trh prace"
   ]
  },
  {
   "cell_type": "code",
   "execution_count": null,
   "metadata": {},
   "outputs": [],
   "source": [
    "\n",
    "set_DPI()\n",
    "years_range = range(2010,2022)\n",
    "\n",
    "# kazdy okres samostatne\n",
    "# for i in range(len(priemerna_mzda)):\n",
    "#     fig = sb.lineplot(x=years_range, y=priemerna_mzda.iloc[i][1:])\n",
    "\n",
    "# priemerna mzda vsetkych okresov\n",
    "fig = sb.lineplot(x=years_range, y=priemerna_mzda.drop(columns=[\"Okres\"]).mean(), color=\"#458EBC\")\n",
    "\n",
    "fig.set_xlabel('Rok')\n",
    "fig.set_ylabel('Priemerná mzda na Slovensku (€)')\n",
    "plt.xticks(np.arange(2010, 2022, 1.0), rotation=45)\n",
    "plt.savefig(\"priemerna_mzda_v_case.png\", transparent=True, dpi=300)\n",
    "plt.show()\n",
    "\n",
    "set_DPI()\n",
    "# percento zamestnanych vsetkych okresov v case\n",
    "priemerna_zamestnanost = []\n",
    "for year in range(2010,2022):\n",
    "    priemerna_zamestnanost.append(sum(years[year][\"zamestnanost\"]) / sum(years[year][\"pocet_obyvatelov\"]) * 100)\n",
    "fig = sb.lineplot(x=years_range, y=priemerna_zamestnanost, color=\"#458EBC\")\n",
    "fig.set_xlabel('Rok')\n",
    "fig.set_ylabel('Priemerná zamestnanosť na Slovensku(%)')\n",
    "plt.xticks(np.arange(2010, 2022, 1.0), rotation=45)\n",
    "plt.savefig(\"priemerna_zamestnanost_v_case.png\", transparent=True, dpi=300)"
   ]
  },
  {
   "attachments": {},
   "cell_type": "markdown",
   "metadata": {},
   "source": [
    "### Populacia"
   ]
  },
  {
   "attachments": {},
   "cell_type": "markdown",
   "metadata": {},
   "source": [
    "#### Pocet obyvatelov"
   ]
  },
  {
   "cell_type": "code",
   "execution_count": null,
   "metadata": {},
   "outputs": [],
   "source": [
    "years_range = range(2010,2022)\n",
    "\n",
    "# percento zamestnanych vsetkych okresov v case\n",
    "pocet_obyvatelov_total = []\n",
    "for year in range(2010,2022):\n",
    "    pocet_obyvatelov_total.append(sum(years[year][\"pocet_obyvatelov\"]))\n",
    "fig, ax = plt.subplots()\n",
    "\n",
    "for x1, x2, y1,y2 in zip(years_range, years_range[1:], pocet_obyvatelov_total, pocet_obyvatelov_total[1:]):\n",
    "    if y1 > y2:\n",
    "        plt.plot([x1, x2], [y1, y2], 'r')\n",
    "    elif y1 < y2:\n",
    "        plt.plot([x1, x2], [y1, y2], 'g')\n",
    "    else:\n",
    "        plt.plot([x1, x2], [y1, y2], 'b')\n",
    "\n",
    "plt.xlabel(\"Rok\")\n",
    "plt.ylabel(\"Počet obyvateľov na Slovensku\")\n",
    "plt.xticks(np.arange(2010, 2022, 1.0), rotation=45)\n",
    "plt.grid(color = '#458EBC', linestyle = '--', linewidth = 0.5)\n",
    "ax.ticklabel_format(style='plain')\n",
    "\n",
    "plt.savefig(\"pocet_obyvatelov_cas.png\", transparent=True, dpi=300, bbox_inches = 'tight')"
   ]
  },
  {
   "attachments": {},
   "cell_type": "markdown",
   "metadata": {},
   "source": [
    "# Heatmap of Slovak districts"
   ]
  },
  {
   "cell_type": "code",
   "execution_count": null,
   "metadata": {},
   "outputs": [],
   "source": [
    "map = gpd.read_file(\"okresy.json\")\n",
    "geoplot.polyplot(map, projection=gcrs.AlbersEqualArea())\n",
    "map[\"TXT\"] = map[\"TXT\"].str.replace(\"okres\", \"Okres\")\n"
   ]
  },
  {
   "attachments": {},
   "cell_type": "markdown",
   "metadata": {},
   "source": [
    "### Mzda"
   ]
  },
  {
   "cell_type": "code",
   "execution_count": null,
   "metadata": {},
   "outputs": [],
   "source": [
    "# make heatmap_data array from dataframe column \"priemerna_mzda\" in years[2021] dataframe, but index it by \"Okres\" column which is same as map[\"TXT\"] column\n",
    "YEAR = 2010\n",
    "heatmap_data = []\n",
    "for okres_name in map[\"TXT\"]:\n",
    "    heatmap_data.append(years[YEAR].loc[years[YEAR][\"Okres\"] == okres_name][\"priemerna_mzda\"].values[0])\n",
    "\n",
    "# scheme = mapclassify.Quantiles(heatmap_data, k=10)\n",
    "\n",
    "geoplot.choropleth(\n",
    "    map, hue=heatmap_data, cmap=\"YlGnBu\", figsize=(15, 6), projection=gcrs.AlbersEqualArea(), legend=True\n",
    ")\n",
    "\n",
    "plt.savefig(\"map-mzda-2010.png\", transparent=True, dpi=300, bbox_inches = 'tight')\n",
    "# years[2021].head(10)"
   ]
  },
  {
   "attachments": {},
   "cell_type": "markdown",
   "metadata": {},
   "source": [
    "### Umrtnost"
   ]
  },
  {
   "cell_type": "code",
   "execution_count": null,
   "metadata": {},
   "outputs": [],
   "source": [
    "# YEAR = 2021\n",
    "# heatmap_data = []\n",
    "# for okres_name in map[\"TXT\"]:\n",
    "#     zomreti = years[YEAR].loc[years[YEAR][\"Okres\"] == okres_name][\"zomreti\"].values[0]\n",
    "#     pocet_obyvatelov = years[YEAR].loc[years[YEAR][\"Okres\"] == okres_name][\"pocet_obyvatelov\"].values[0]\n",
    "#     heatmap_data.append(zomreti/pocet_obyvatelov*100)\n",
    "\n",
    "heatmap_data = []\n",
    "\n",
    "for okres_name in map[\"TXT\"]:\n",
    "    sum_calculation = 0\n",
    "    for year in range(2010,2022):\n",
    "        zomreti_mapa = years[year].loc[years[year][\"Okres\"] == okres_name][\"zomreti\"].values[0]\n",
    "        pocet_obyvatelov_mapa = years[year].loc[years[year][\"Okres\"] == okres_name][\"pocet_obyvatelov\"].values[0]\n",
    "        sum_calculation += zomreti_mapa/pocet_obyvatelov_mapa*100\n",
    "    heatmap_data.append(sum_calculation/12)\n",
    "\n",
    "# scheme = mapclassify.Quantiles(heatmap_data, k=10)\n",
    "\n",
    "geoplot.choropleth(\n",
    "    map, hue=heatmap_data, cmap=\"YlGnBu\", figsize=(15, 6), projection=gcrs.AlbersEqualArea(), legend=True\n",
    ")\n",
    "\n",
    "plt.savefig(\"umrtnost-mapka-average.png\", transparent=True, dpi=300, bbox_inches = 'tight')\n",
    "# years[2021].head(10)"
   ]
  },
  {
   "attachments": {},
   "cell_type": "markdown",
   "metadata": {},
   "source": [
    "### Narodenost"
   ]
  },
  {
   "cell_type": "code",
   "execution_count": null,
   "metadata": {},
   "outputs": [],
   "source": [
    "# YEAR = 2010\n",
    "# heatmap_data = []\n",
    "# for okres_name in map[\"TXT\"]:\n",
    "#     narodeni = years[YEAR].loc[years[YEAR][\"Okres\"] == okres_name][\"narodeni\"].values[0]\n",
    "#     pocet_obyvatelov = years[YEAR].loc[years[YEAR][\"Okres\"] == okres_name][\"pocet_obyvatelov\"].values[0]\n",
    "#     heatmap_data.append(narodeni/pocet_obyvatelov*100)\n",
    "\n",
    "heatmap_data = []\n",
    "for okres_name in map[\"TXT\"]:\n",
    "    sum_calculation = 0\n",
    "    for year in range(2010,2022):\n",
    "        narodeni_mapa = years[year].loc[years[year][\"Okres\"] == okres_name][\"narodeni\"].values[0]\n",
    "        pocet_obyvatelov_mapa = years[year].loc[years[year][\"Okres\"] == okres_name][\"pocet_obyvatelov\"].values[0]\n",
    "        sum_calculation += narodeni_mapa/pocet_obyvatelov_mapa*100\n",
    "    heatmap_data.append(sum_calculation/12)\n",
    "\n",
    "# scheme = mapclassify.Quantiles(heatmap_data, k=10)\n",
    "\n",
    "geoplot.choropleth(\n",
    "    map, hue=heatmap_data, cmap=\"YlGnBu\", figsize=(15, 6), projection=gcrs.AlbersEqualArea(), legend=True\n",
    ")\n",
    "\n",
    "plt.savefig(\"narodenost-mapka-average.png\", transparent=True, dpi=300, bbox_inches = 'tight')"
   ]
  },
  {
   "attachments": {},
   "cell_type": "markdown",
   "metadata": {},
   "source": [
    "### Migracia"
   ]
  },
  {
   "cell_type": "code",
   "execution_count": null,
   "metadata": {},
   "outputs": [],
   "source": [
    "\"\"\"\n",
    "heatmap_data = []\n",
    "for okres_name in map[\"TXT\"]:\n",
    "    sum_calculation = 0\n",
    "    for year in range(2010,2022):\n",
    "        vnutorna_migracia_pristahovani = years[year].loc[years[year][\"Okres\"] == okres_name][\"narodeni\"].values[0]\n",
    "        pocet_obyvatelov = years[year].loc[years[year][\"Okres\"] == okres_name][\"pocet_obyvatelov\"].values[0]\n",
    "        sum_calculation += narodeni/pocet_obyvatelov*100\n",
    "    heatmap_data.append(sum_calculation/12)\n",
    "\n",
    "\n",
    "# scheme = mapclassify.Quantiles(heatmap_data, k=10)\n",
    "\n",
    "geoplot.choropleth(\n",
    "    map, hue=heatmap_data, cmap=\"YlGnBu\", figsize=(15, 6), projection=gcrs.AlbersEqualArea(), legend=True\n",
    ")\n",
    "\n",
    "plt.savefig(\"narodenost-mapka-average.png\", transparent=True)\n",
    "\"\"\""
   ]
  },
  {
   "attachments": {},
   "cell_type": "markdown",
   "metadata": {},
   "source": [
    "## Histograms"
   ]
  },
  {
   "cell_type": "code",
   "execution_count": null,
   "metadata": {},
   "outputs": [],
   "source": [
    "plt.hist(years[2010][\"priemerna_mzda\"])\n",
    "plt.show()\n",
    "plt.hist(years[2021][\"priemerna_mzda\"])\n",
    "plt.show()"
   ]
  },
  {
   "attachments": {},
   "cell_type": "markdown",
   "metadata": {},
   "source": [
    "# Stacked area chart"
   ]
  },
  {
   "attachments": {},
   "cell_type": "markdown",
   "metadata": {},
   "source": [
    "### Population"
   ]
  },
  {
   "cell_type": "code",
   "execution_count": null,
   "metadata": {},
   "outputs": [],
   "source": [
    "# set_DPI()\n",
    "okresyy = []\n",
    "for i in range(20):\n",
    "    okresyy.append(pocet_obyvatelov.iloc[i][1:].to_list())\n",
    "# make the fig size bigger of subplots\n",
    "fig, ax = plt.subplots(figsize=(6, 12))\n",
    "colors = sb.color_palette(\"YlGnBu\", 7)\n",
    "plt.stackplot(years_range, okresyy, labels=pocet_obyvatelov[\"Okres\"].to_list()[:20], colors=colors)\n",
    "plt.legend(loc = \"upper center\", bbox_to_anchor=(1.1, 0.8), ncol=1)\n",
    "plt.show()"
   ]
  },
  {
   "attachments": {},
   "cell_type": "markdown",
   "metadata": {},
   "source": [
    "# Anomalies"
   ]
  },
  {
   "cell_type": "code",
   "execution_count": null,
   "metadata": {},
   "outputs": [],
   "source": [
    "# yyy = pd.DataFrame()\n",
    "# for y in range(2010,2022):\n",
    "    # yyy[years[2010].iloc[47][1:].keys().to_list()[y - 2011]] = years[y].iloc[47][1:].to_list()\n",
    "# print(yyy)\n",
    "\n",
    "# print(yyy.corr())\n",
    "# .corr()\n",
    "# dataplot=sb.heatmap(sum_of_correlations, annot=True, cmap=\"YlGnBu\", ax = ax)"
   ]
  },
  {
   "cell_type": "code",
   "execution_count": null,
   "metadata": {},
   "outputs": [],
   "source": [
    "# find Presov okres in dataframe and get row\n",
    "# print(years[2010].iloc[47])\n",
    "yy = pd.DataFrame(years[2010].columns)\n",
    "# print(yy)\n",
    "# yy = pd.DataFrame(\"pocet_obyvatelov\": {}, \"narodeni\": {}, \"zomreti\": {}, \"vnutorna_migracia_pristahovani\": {}, vnutorna_migracia_vystahovani )\n",
    "# years[2010].iloc[47].drop(\"Okres\")\n",
    "\n",
    "# df.append({'Name':'Jane', 'Age':25, 'Location':'Madrid'}, "
   ]
  },
  {
   "cell_type": "code",
   "execution_count": null,
   "metadata": {},
   "outputs": [],
   "source": [
    "sb.heatmap(years[2010].corr(), annot=True, cmap=\"YlGnBu\")"
   ]
  }
 ],
 "metadata": {
  "kernelspec": {
   "display_name": "base",
   "language": "python",
   "name": "python3"
  },
  "language_info": {
   "codemirror_mode": {
    "name": "ipython",
    "version": 3
   },
   "file_extension": ".py",
   "mimetype": "text/x-python",
   "name": "python",
   "nbconvert_exporter": "python",
   "pygments_lexer": "ipython3",
   "version": "3.9.7"
  },
  "orig_nbformat": 4,
  "vscode": {
   "interpreter": {
    "hash": "c11202d2846b22eec7deaf37ea813ba92a5f75b5344a4d16688175855af7948e"
   }
  }
 },
 "nbformat": 4,
 "nbformat_minor": 2
}
